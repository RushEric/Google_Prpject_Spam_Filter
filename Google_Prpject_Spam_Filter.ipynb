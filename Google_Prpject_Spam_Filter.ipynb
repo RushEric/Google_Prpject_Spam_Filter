{
 "cells": [
  {
   "cell_type": "markdown",
   "id": "246544c8",
   "metadata": {},
   "source": [
    "# 2. Data Collection and Pre-processing:\n",
    "Objective: Gather a sizeable dataset of emails labeled as 'spam' or 'ham'. Clean the data by removing duplicates, irrelevant data, and ensure a balanced dataset.\n",
    "Tasks:\n",
    "\n",
    "2.1 Data Cleaning and Preprocessing:     9/22 - ?\n",
    "\n",
    "Team Member: Member( All )\n",
    "\n",
    "Tasks:\n",
    "Handle missing values.\n",
    "Tokenize the text (convert the text into individual words or terms).\n",
    "Convert the text data to lowercase.\n",
    "Remove special characters and numbers.\n",
    "Remove stop words.\n",
    "Stemming/Lemmatization.\n"
   ]
  },
  {
   "cell_type": "code",
   "execution_count": null,
   "id": "2133e62c",
   "metadata": {},
   "outputs": [],
   "source": []
  }
 ],
 "metadata": {
  "kernelspec": {
   "display_name": "Python 3 (ipykernel)",
   "language": "python",
   "name": "python3"
  },
  "language_info": {
   "codemirror_mode": {
    "name": "ipython",
    "version": 3
   },
   "file_extension": ".py",
   "mimetype": "text/x-python",
   "name": "python",
   "nbconvert_exporter": "python",
   "pygments_lexer": "ipython3",
   "version": "3.11.4"
  }
 },
 "nbformat": 4,
 "nbformat_minor": 5
}
